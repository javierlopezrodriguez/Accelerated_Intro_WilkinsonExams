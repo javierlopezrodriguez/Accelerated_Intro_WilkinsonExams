{
 "cells": [
  {
   "cell_type": "markdown",
   "metadata": {},
   "source": [
    "##### Exam 1 Answers by Javier López Rodríguez  (javier.lopez.rodriguez@alumnos.upm.es)"
   ]
  },
  {
   "cell_type": "markdown",
   "metadata": {},
   "source": [
    "### Problem 2\n",
    "\n",
    "ls shows a list of the directory contents.\n",
    "\n",
    "Option -l shows the information in a long listing format, in which the ownership appears in the third (user) and fourth (group) fields of each row.\n",
    "\n",
    "Option -h shows file sizes in a human-readable format."
   ]
  },
  {
   "cell_type": "code",
   "execution_count": 1,
   "metadata": {
    "scrolled": true
   },
   "outputs": [
    {
     "name": "stdout",
     "output_type": "stream",
     "text": [
      "total 3.6M\n",
      "-rw-rw-r-- 1 osboxes osboxes 1.2M Sep  3 12:01  conv.txt\n",
      "-rw-rw-r-- 1 osboxes osboxes 1.2M Sep  3 17:45  Data_Only.csv\n",
      "-rw-rw-r-- 1 osboxes osboxes  147 Sep  3 12:01  DISCLAIMER\n",
      "-rw-rw-r-- 1 osboxes osboxes 4.5K Sep  3 17:45  Exam_1_Answers.ipynb\n",
      "-rw-rw-r-- 1 osboxes osboxes 5.5K Sep  3 12:01 'Exam Week 1.ipynb'\n",
      "-rw-rw-r-- 1 osboxes osboxes 3.9K Sep  3 12:01 'Exam Week 2.ipynb'\n",
      "-rw-rw-r-- 1 osboxes osboxes 4.2K Sep  3 12:01  Germplasm.tsv\n",
      "-rw-rw-r-- 1 osboxes osboxes  141 Sep  3 12:01  how_to_convert.txt\n",
      "-rw-rw-r-- 1 osboxes osboxes 1.1K Sep  3 12:01  LICENSE\n",
      "-rw-rw-r-- 1 osboxes osboxes  637 Sep  3 12:01  LocusGene.tsv\n",
      "-rw-rw-r-- 1 osboxes osboxes 1.2M Sep  3 12:01  Locus_Germplasm_Phenotype_20130122.txt\n",
      "-rw-rw-r-- 1 osboxes osboxes  743 Sep  3 12:01  README.md\n"
     ]
    }
   ],
   "source": [
    "ls -lh"
   ]
  },
  {
   "cell_type": "markdown",
   "metadata": {},
   "source": [
    "The permissions of this file are shown in the first field, \"-rw-rw-r--\".\n",
    "\n",
    "Characters 2-4 refer to the permissions of the user. A letter (r, w and x) shows if that user is permitted to read, write and execute the file, respectively. A dash (-) indicates a lack of permission. Therefore, \"rw-\" indicates that the user can read and write, but not execute.\n",
    "\n",
    "Characters 5-7 show the permissions of the group, the same way as explained above. \"rw-\" indicates that the group can read and write, but not execute.\n",
    "\n",
    "Characters 8-10 show the permissions of all other users. \"r--\" indicates that anyone can read the file, but not write or execute."
   ]
  },
  {
   "cell_type": "markdown",
   "metadata": {},
   "source": [
    "### Problem 3\n",
    "\n",
    "head -n outputs the first n lines of a file. In this case, head -1 shows the first line (the header)."
   ]
  },
  {
   "cell_type": "code",
   "execution_count": 2,
   "metadata": {},
   "outputs": [
    {
     "name": "stdout",
     "output_type": "stream",
     "text": [
      "Locus_name)\tGermplasm_name\tphenotype\tpubmed_id\n"
     ]
    }
   ],
   "source": [
    "head -1 Locus_Germplasm_Phenotype_20130122.txt"
   ]
  },
  {
   "cell_type": "markdown",
   "metadata": {},
   "source": [
    "### Problem 4\n",
    "\n",
    "wc -l counts the number of lines of a file."
   ]
  },
  {
   "cell_type": "code",
   "execution_count": 3,
   "metadata": {},
   "outputs": [
    {
     "name": "stdout",
     "output_type": "stream",
     "text": [
      "7216 Locus_Germplasm_Phenotype_20130122.txt\n"
     ]
    }
   ],
   "source": [
    "wc -l Locus_Germplasm_Phenotype_20130122.txt"
   ]
  },
  {
   "cell_type": "markdown",
   "metadata": {},
   "source": [
    "### Problem 5\n",
    "\n",
    "tail -n +NUM outputs every line starting with the NUM-th line. In this case, tail -n +2 starts with the 2nd line, therefore skipping the header.\n",
    "\n",
    "The output of tail gets redirected (>) to the new file.\n",
    "\n",
    "For the verification, wc -l outputs the number of lines of each file, as expected (7216 in the original, 7215 in Data_Only.csv)"
   ]
  },
  {
   "cell_type": "code",
   "execution_count": 4,
   "metadata": {},
   "outputs": [
    {
     "name": "stdout",
     "output_type": "stream",
     "text": [
      "Number of lines of the original file:\n",
      "7216 Locus_Germplasm_Phenotype_20130122.txt\n",
      "Number of lines of the new file:\n",
      "7215 Data_Only.csv\n"
     ]
    }
   ],
   "source": [
    "# Writing only the data lines into the new file.\n",
    "tail -n +2 Locus_Germplasm_Phenotype_20130122.txt > Data_Only.csv\n",
    "\n",
    "# Checking that the new file has one less line than the original file.\n",
    "echo \"Number of lines of the original file:\"\n",
    "wc -l Locus_Germplasm_Phenotype_20130122.txt\n",
    "echo \"Number of lines of the new file:\"\n",
    "wc -l Data_Only.csv"
   ]
  },
  {
   "cell_type": "markdown",
   "metadata": {},
   "source": [
    "### Problem 6"
   ]
  },
  {
   "cell_type": "code",
   "execution_count": null,
   "metadata": {},
   "outputs": [],
   "source": []
  },
  {
   "cell_type": "markdown",
   "metadata": {},
   "source": [
    "### Problem 7"
   ]
  },
  {
   "cell_type": "code",
   "execution_count": null,
   "metadata": {},
   "outputs": [],
   "source": []
  },
  {
   "cell_type": "markdown",
   "metadata": {},
   "source": [
    "### Problem 8"
   ]
  },
  {
   "cell_type": "code",
   "execution_count": null,
   "metadata": {},
   "outputs": [],
   "source": []
  },
  {
   "cell_type": "markdown",
   "metadata": {},
   "source": [
    "### Problem 9"
   ]
  },
  {
   "cell_type": "code",
   "execution_count": null,
   "metadata": {},
   "outputs": [],
   "source": []
  },
  {
   "cell_type": "markdown",
   "metadata": {},
   "source": [
    "### Problem 10"
   ]
  },
  {
   "cell_type": "code",
   "execution_count": null,
   "metadata": {},
   "outputs": [],
   "source": []
  }
 ],
 "metadata": {
  "kernelspec": {
   "display_name": "Bash",
   "language": "bash",
   "name": "bash"
  },
  "language_info": {
   "codemirror_mode": "shell",
   "file_extension": ".sh",
   "mimetype": "text/x-sh",
   "name": "bash"
  }
 },
 "nbformat": 4,
 "nbformat_minor": 2
}
